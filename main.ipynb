{
 "cells": [
  {
   "cell_type": "markdown",
   "metadata": {},
   "source": [
    "# Reestruturação MVC com Heurísticas de Nielsen\n",
    "\n",
    "Este notebook segue o padrão **MVC** (Model-View-Controller), organizando as funções para maior clareza e modularidade.  \n",
    "Também aplicamos duas heurísticas de Nielsen:\n",
    "- **Visibilidade do estado do sistema**: Mensagens informam o progresso em cada etapa.\n",
    "- **Consistência e padrões**: Estrutura modular com células dedicadas para cada componente.\n",
    "\n",
    "## Estrutura\n",
    "1. **Model**: Gerenciamento de dados e lógica de previsão.\n",
    "2. **View**: Apresentação de resultados, gráficos e outputs visuais.\n",
    "3. **Controller**: Interação entre Model e View, coordenando inputs e outputs."
   ]
  },
  {
   "cell_type": "markdown",
   "metadata": {},
   "source": [
    "<h3>Model: Gerenciamento de Dados e Lógica</h3>"
   ]
  },
  {
   "cell_type": "code",
   "execution_count": 1,
   "metadata": {},
   "outputs": [],
   "source": [
    "import pandas as pd\n",
    "\n",
    "# Função para carregar os dados\n",
    "def carregar_dados(caminho_arquivo):\n",
    "    return pd.read_csv(caminho_arquivo)\n",
    "\n",
    "# Função para processar dados de veículos elétricos\n",
    "def processar_dados_veiculos(dados):\n",
    "    # Se necessário, adicionar mais processamento dos dados de veículos\n",
    "    return dados\n",
    "\n",
    "# Função para processar dados de localização (Latitude e Longitude)\n",
    "def processar_dados_localizacao(dados, lat_col, long_col):\n",
    "    dados = dados.dropna(subset=[lat_col, long_col])  # Remove NaN na localização\n",
    "    return dados\n",
    "\n",
    "# Função para processar os dados de estações de carregamento\n",
    "def processar_dados_estacoes(dados):\n",
    "    dados.columns = dados.columns.str.strip()  # Remover espaços em branco nos nomes das colunas\n",
    "    return dados\n",
    "\n",
    "# Função para limpar dados de carregadores (remover NaNs nas colunas kwhTotal e dollars)\n",
    "def limpar_dados_carregadores(dados):\n",
    "    dados_limpos = dados.dropna(subset=['kwhTotal', 'dollars'])  # Remover NaN em 'kwhTotal' e 'dollars'\n",
    "    return dados_limpos\n",
    "\n",
    "# Função para calcular a correlação entre veículos e carregadores\n",
    "def calcular_correlacao(cidade_carros, cidade_station):\n",
    "    merged_data = pd.merge(cidade_carros, cidade_station, on='City', how='inner')\n",
    "    return merged_data['Número de Veículos'].corr(merged_data['Número de Chargers'])\n"
   ]
  },
  {
   "cell_type": "markdown",
   "metadata": {},
   "source": [
    "<h3>View: Apresentação dos Resultados</h3>"
   ]
  },
  {
   "cell_type": "code",
   "execution_count": 2,
   "metadata": {},
   "outputs": [],
   "source": [
    "import matplotlib.pyplot as plt\n",
    "import seaborn as sns\n",
    "\n",
    "# Função para exibir o gráfico das 50 cidades com mais veículos elétricos\n",
    "def exibir_top_50_cidades_com_mais_veiculos(dados):\n",
    "    cidade_carros = dados['City'].value_counts().reset_index()\n",
    "    cidade_carros.columns = ['City', 'Número de Veículos']\n",
    "    top_50_cidades = cidade_carros.head(50)\n",
    "    \n",
    "    plt.figure(figsize=(10, 6))\n",
    "    sns.barplot(data=top_50_cidades, x='City', y='Número de Veículos')\n",
    "    plt.title('Top 50 Cidades com Mais Veículos Elétricos', fontsize=14)\n",
    "    plt.xlabel('Cidade', fontsize=12)\n",
    "    plt.ylabel('Número de Veículos', fontsize=12)\n",
    "    plt.xticks(rotation=90)\n",
    "    plt.grid(True)\n",
    "    plt.show()\n",
    "\n",
    "# Função para exibir gráfico de dispersão entre kWh e preço\n",
    "def exibir_grafico_dispersao(dados):\n",
    "    plt.figure(figsize=(10, 6))\n",
    "    sns.scatterplot(data=dados, x='kwhTotal', y='dollars', alpha=0.6)\n",
    "    plt.title('Relação entre Demanda (kWh) e Preço ($)', fontsize=14)\n",
    "    plt.xlabel('Demanda (kWh)', fontsize=12)\n",
    "    plt.ylabel('Preço ($)', fontsize=12)\n",
    "    plt.grid(True)\n",
    "    plt.show()\n",
    "\n",
    "# Função para exibir a correlação entre veículos e carregadores\n",
    "def exibir_correlacao_veiculos_carregadores(correlacao):\n",
    "    print(f\"Correlação entre número de veículos e carregadores: {correlacao:.2f}\")\n"
   ]
  },
  {
   "cell_type": "markdown",
   "metadata": {},
   "source": [
    "<h3>Controller: Fluxo de Execução</h3>"
   ]
  },
  {
   "cell_type": "code",
   "execution_count": 3,
   "metadata": {},
   "outputs": [
    {
     "ename": "KeyError",
     "evalue": "['Latitude', 'Longitude']",
     "output_type": "error",
     "traceback": [
      "\u001b[1;31m---------------------------------------------------------------------------\u001b[0m",
      "\u001b[1;31mKeyError\u001b[0m                                  Traceback (most recent call last)",
      "\u001b[1;32m~\\AppData\\Local\\Temp\\ipykernel_7512\\251111835.py\u001b[0m in \u001b[0;36m?\u001b[1;34m()\u001b[0m\n\u001b[0;32m     11\u001b[0m     \u001b[0mdados_estacoes_dv\u001b[0m \u001b[1;33m=\u001b[0m \u001b[0mcarregar_dados\u001b[0m\u001b[1;33m(\u001b[0m\u001b[0mcaminho_estacoes_dv\u001b[0m\u001b[1;33m)\u001b[0m\u001b[1;33m\u001b[0m\u001b[1;33m\u001b[0m\u001b[0m\n\u001b[0;32m     12\u001b[0m \u001b[1;33m\u001b[0m\u001b[0m\n\u001b[0;32m     13\u001b[0m     \u001b[1;31m# Processar os dados de veículos elétricos (Model)\u001b[0m\u001b[1;33m\u001b[0m\u001b[1;33m\u001b[0m\u001b[0m\n\u001b[0;32m     14\u001b[0m     \u001b[0mdados_ve\u001b[0m \u001b[1;33m=\u001b[0m \u001b[0mprocessar_dados_veiculos\u001b[0m\u001b[1;33m(\u001b[0m\u001b[0mdados_ve\u001b[0m\u001b[1;33m)\u001b[0m\u001b[1;33m\u001b[0m\u001b[1;33m\u001b[0m\u001b[0m\n\u001b[1;32m---> 15\u001b[1;33m     \u001b[0mdados_ve\u001b[0m \u001b[1;33m=\u001b[0m \u001b[0mprocessar_dados_localizacao\u001b[0m\u001b[1;33m(\u001b[0m\u001b[0mdados_ve\u001b[0m\u001b[1;33m,\u001b[0m \u001b[1;34m\"Latitude\"\u001b[0m\u001b[1;33m,\u001b[0m \u001b[1;34m\"Longitude\"\u001b[0m\u001b[1;33m)\u001b[0m\u001b[1;33m\u001b[0m\u001b[1;33m\u001b[0m\u001b[0m\n\u001b[0m\u001b[0;32m     16\u001b[0m \u001b[1;33m\u001b[0m\u001b[0m\n\u001b[0;32m     17\u001b[0m     \u001b[1;31m# Processar os dados de estações de carregamento (Model)\u001b[0m\u001b[1;33m\u001b[0m\u001b[1;33m\u001b[0m\u001b[0m\n\u001b[0;32m     18\u001b[0m     \u001b[0mdados_estacoes\u001b[0m \u001b[1;33m=\u001b[0m \u001b[0mprocessar_dados_estacoes\u001b[0m\u001b[1;33m(\u001b[0m\u001b[0mdados_estacoes\u001b[0m\u001b[1;33m)\u001b[0m\u001b[1;33m\u001b[0m\u001b[1;33m\u001b[0m\u001b[0m\n",
      "\u001b[1;32m~\\AppData\\Local\\Temp\\ipykernel_7512\\2560995185.py\u001b[0m in \u001b[0;36m?\u001b[1;34m(dados, lat_col, long_col)\u001b[0m\n\u001b[0;32m     13\u001b[0m \u001b[1;32mdef\u001b[0m \u001b[0mprocessar_dados_localizacao\u001b[0m\u001b[1;33m(\u001b[0m\u001b[0mdados\u001b[0m\u001b[1;33m,\u001b[0m \u001b[0mlat_col\u001b[0m\u001b[1;33m,\u001b[0m \u001b[0mlong_col\u001b[0m\u001b[1;33m)\u001b[0m\u001b[1;33m:\u001b[0m\u001b[1;33m\u001b[0m\u001b[1;33m\u001b[0m\u001b[0m\n\u001b[1;32m---> 14\u001b[1;33m     \u001b[0mdados\u001b[0m \u001b[1;33m=\u001b[0m \u001b[0mdados\u001b[0m\u001b[1;33m.\u001b[0m\u001b[0mdropna\u001b[0m\u001b[1;33m(\u001b[0m\u001b[0msubset\u001b[0m\u001b[1;33m=\u001b[0m\u001b[1;33m[\u001b[0m\u001b[0mlat_col\u001b[0m\u001b[1;33m,\u001b[0m \u001b[0mlong_col\u001b[0m\u001b[1;33m]\u001b[0m\u001b[1;33m)\u001b[0m  \u001b[1;31m# Remove NaN na localização\u001b[0m\u001b[1;33m\u001b[0m\u001b[1;33m\u001b[0m\u001b[0m\n\u001b[0m\u001b[0;32m     15\u001b[0m     \u001b[1;32mreturn\u001b[0m \u001b[0mdados\u001b[0m\u001b[1;33m\u001b[0m\u001b[1;33m\u001b[0m\u001b[0m\n",
      "\u001b[1;32m~\\AppData\\Local\\Packages\\PythonSoftwareFoundation.Python.3.11_qbz5n2kfra8p0\\LocalCache\\local-packages\\Python311\\site-packages\\pandas\\core\\frame.py\u001b[0m in \u001b[0;36m?\u001b[1;34m(self, axis, how, thresh, subset, inplace, ignore_index)\u001b[0m\n\u001b[0;32m   6666\u001b[0m             \u001b[0max\u001b[0m \u001b[1;33m=\u001b[0m \u001b[0mself\u001b[0m\u001b[1;33m.\u001b[0m\u001b[0m_get_axis\u001b[0m\u001b[1;33m(\u001b[0m\u001b[0magg_axis\u001b[0m\u001b[1;33m)\u001b[0m\u001b[1;33m\u001b[0m\u001b[1;33m\u001b[0m\u001b[0m\n\u001b[0;32m   6667\u001b[0m             \u001b[0mindices\u001b[0m \u001b[1;33m=\u001b[0m \u001b[0max\u001b[0m\u001b[1;33m.\u001b[0m\u001b[0mget_indexer_for\u001b[0m\u001b[1;33m(\u001b[0m\u001b[0msubset\u001b[0m\u001b[1;33m)\u001b[0m\u001b[1;33m\u001b[0m\u001b[1;33m\u001b[0m\u001b[0m\n\u001b[0;32m   6668\u001b[0m             \u001b[0mcheck\u001b[0m \u001b[1;33m=\u001b[0m \u001b[0mindices\u001b[0m \u001b[1;33m==\u001b[0m \u001b[1;33m-\u001b[0m\u001b[1;36m1\u001b[0m\u001b[1;33m\u001b[0m\u001b[1;33m\u001b[0m\u001b[0m\n\u001b[0;32m   6669\u001b[0m             \u001b[1;32mif\u001b[0m \u001b[0mcheck\u001b[0m\u001b[1;33m.\u001b[0m\u001b[0many\u001b[0m\u001b[1;33m(\u001b[0m\u001b[1;33m)\u001b[0m\u001b[1;33m:\u001b[0m\u001b[1;33m\u001b[0m\u001b[1;33m\u001b[0m\u001b[0m\n\u001b[1;32m-> 6670\u001b[1;33m                 \u001b[1;32mraise\u001b[0m \u001b[0mKeyError\u001b[0m\u001b[1;33m(\u001b[0m\u001b[0mnp\u001b[0m\u001b[1;33m.\u001b[0m\u001b[0marray\u001b[0m\u001b[1;33m(\u001b[0m\u001b[0msubset\u001b[0m\u001b[1;33m)\u001b[0m\u001b[1;33m[\u001b[0m\u001b[0mcheck\u001b[0m\u001b[1;33m]\u001b[0m\u001b[1;33m.\u001b[0m\u001b[0mtolist\u001b[0m\u001b[1;33m(\u001b[0m\u001b[1;33m)\u001b[0m\u001b[1;33m)\u001b[0m\u001b[1;33m\u001b[0m\u001b[1;33m\u001b[0m\u001b[0m\n\u001b[0m\u001b[0;32m   6671\u001b[0m             \u001b[0magg_obj\u001b[0m \u001b[1;33m=\u001b[0m \u001b[0mself\u001b[0m\u001b[1;33m.\u001b[0m\u001b[0mtake\u001b[0m\u001b[1;33m(\u001b[0m\u001b[0mindices\u001b[0m\u001b[1;33m,\u001b[0m \u001b[0maxis\u001b[0m\u001b[1;33m=\u001b[0m\u001b[0magg_axis\u001b[0m\u001b[1;33m)\u001b[0m\u001b[1;33m\u001b[0m\u001b[1;33m\u001b[0m\u001b[0m\n\u001b[0;32m   6672\u001b[0m \u001b[1;33m\u001b[0m\u001b[0m\n\u001b[0;32m   6673\u001b[0m         \u001b[1;32mif\u001b[0m \u001b[0mthresh\u001b[0m \u001b[1;32mis\u001b[0m \u001b[1;32mnot\u001b[0m \u001b[0mlib\u001b[0m\u001b[1;33m.\u001b[0m\u001b[0mno_default\u001b[0m\u001b[1;33m:\u001b[0m\u001b[1;33m\u001b[0m\u001b[1;33m\u001b[0m\u001b[0m\n",
      "\u001b[1;31mKeyError\u001b[0m: ['Latitude', 'Longitude']"
     ]
    }
   ],
   "source": [
    "# Controller: Executa o pipeline de análise e visualização\n",
    "if __name__ == \"__main__\":\n",
    "    # Caminhos dos arquivos\n",
    "    caminho_ve = \"Electric_Vehicle_Population_Data.csv\"\n",
    "    caminho_estacoes = \"Electric_Vehicle_Charging_Stations.csv\"\n",
    "    caminho_estacoes_dv = \"station_data_dataverse.csv\"\n",
    "\n",
    "    # Carregar os datasets (Model)\n",
    "    dados_ve = carregar_dados(caminho_ve)\n",
    "    dados_estacoes = carregar_dados(caminho_estacoes)\n",
    "    dados_estacoes_dv = carregar_dados(caminho_estacoes_dv)\n",
    "\n",
    "    # Processar os dados de veículos elétricos (Model)\n",
    "    dados_ve = processar_dados_veiculos(dados_ve)\n",
    "    dados_ve = processar_dados_localizacao(dados_ve, \"Latitude\", \"Longitude\")\n",
    "\n",
    "    # Processar os dados de estações de carregamento (Model)\n",
    "    dados_estacoes = processar_dados_estacoes(dados_estacoes)\n",
    "\n",
    "    # Limpar dados de carregadores (Model)\n",
    "    dados_estacoes_limpos = limpar_dados_carregadores(dados_estacoes)\n",
    "\n",
    "    # Visualizações (View)\n",
    "    exibir_top_50_cidades_com_mais_veiculos(dados_ve)  # Top 50 cidades com mais carros elétricos\n",
    "    exibir_grafico_dispersao(dados_estacoes_limpos)  # Gráfico de relação entre kWh e preço\n",
    "\n",
    "    # Calcular a correlação entre veículos e carregadores (Model)\n",
    "    cidade_carros = dados_ve['City'].value_counts().reset_index()\n",
    "    cidade_carros.columns = ['City', 'Número de Veículos']\n",
    "    cidade_station = dados_estacoes['City'].value_counts().reset_index()\n",
    "    cidade_station.columns = ['City', 'Número de Chargers']\n",
    "    \n",
    "    correlacao = calcular_correlacao(cidade_carros, cidade_station)  # Calcular correlação entre veículos e carregadores\n",
    "\n",
    "    # Exibir correlação (View)\n",
    "    exibir_correlacao_veiculos_carregadores(correlacao)\n"
   ]
  }
 ],
 "metadata": {
  "kernelspec": {
   "display_name": "Python 3",
   "language": "python",
   "name": "python3"
  },
  "language_info": {
   "codemirror_mode": {
    "name": "ipython",
    "version": 3
   },
   "file_extension": ".py",
   "mimetype": "text/x-python",
   "name": "python",
   "nbconvert_exporter": "python",
   "pygments_lexer": "ipython3",
   "version": "3.11.9"
  }
 },
 "nbformat": 4,
 "nbformat_minor": 2
}
